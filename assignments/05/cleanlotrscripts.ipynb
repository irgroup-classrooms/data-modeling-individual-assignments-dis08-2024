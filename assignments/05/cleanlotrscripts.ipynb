{
 "cells": [
  {
   "cell_type": "code",
   "execution_count": 10,
   "metadata": {},
   "outputs": [
    {
     "name": "stdout",
     "output_type": "stream",
     "text": [
      "Datenbereinigung abgeschlossen. Datei gespeichert als: lotr_scripts_cleaned.csv\n"
     ]
    },
    {
     "name": "stderr",
     "output_type": "stream",
     "text": [
      "C:\\Users\\kenan\\AppData\\Local\\Temp\\ipykernel_10324\\4275426365.py:11: FutureWarning: DataFrame.applymap has been deprecated. Use DataFrame.map instead.\n",
      "  df = df.applymap(lambda x: x.strip() if isinstance(x, str) else x)\n"
     ]
    }
   ],
   "source": [
    "import pandas as pd\n",
    "import re\n",
    "\n",
    "# Datei einlesen\n",
    "file_path = \"lotr_scripts.csv\"\n",
    "df = pd.read_csv(file_path)\n",
    "\n",
    "\n",
    "\n",
    "# Entfernt überflüssige Leerzeichen in allen Spalten\n",
    "df = df.applymap(lambda x: x.strip() if isinstance(x, str) else x)\n",
    "\n",
    "# Ersetzt NaN-Werte in der 'dialog'-Spalte durch leere Strings\n",
    "df[\"dialog\"] = df[\"dialog\"].astype(str)\n",
    "\n",
    "# Ersetzt mehrfache Leerzeichen durch ein einzelnes Leerzeichen\n",
    "df[\"dialog\"] = df[\"dialog\"].apply(lambda x: re.sub(r\"\\s+\", \" \", x))\n",
    "\n",
    "# Entfernt ungewöhnliche Zeichen außer normalen Satzzeichen\n",
    "df[\"dialog\"] = df[\"dialog\"].apply(lambda x: re.sub(r\"[^\\w\\s.,!?'-]\", \"\", x))\n",
    "\n",
    "# Bereinigte Datei speichern\n",
    "cleaned_file_path = \"lotr_scripts_cleaned.csv\"\n",
    "df.to_csv(cleaned_file_path, index=False)\n",
    "\n",
    "print(f\"Datenbereinigung abgeschlossen. Datei gespeichert als: {cleaned_file_path}\")"
   ]
  },
  {
   "cell_type": "code",
   "execution_count": 11,
   "metadata": {},
   "outputs": [
    {
     "name": "stdout",
     "output_type": "stream",
     "text": [
      "Anzahl der Zeilen: 2390\n",
      "Anzahl einzigartiger Wörter: 6167\n",
      "Verteilung der Dialoge auf die Filme:\n",
      "movie\n",
      "The Two Towers                1010\n",
      "The Return of the King         873\n",
      "The Fellowship of the Ring     507\n",
      "Name: count, dtype: int64\n",
      "Top 5 Charaktere mit den meisten Dialogen:\n",
      "char\n",
      "FRODO      226\n",
      "SAM        217\n",
      "GANDALF    205\n",
      "ARAGORN    187\n",
      "PIPPIN     163\n",
      "Name: count, dtype: int64\n",
      "Datenbereinigung und Analyse abgeschlossen. Datei gespeichert als: lotr_scripts_cleaned.csv\n"
     ]
    }
   ],
   "source": [
    "# Datenanalyse\n",
    "# Anzahl der Zeilen\n",
    "line_count = len(df)\n",
    "\n",
    "# Anzahl der einzigartigen Wörter im Dialog\n",
    "def unique_words(text_series):\n",
    "    words = set()\n",
    "    for text in text_series.dropna():\n",
    "        words.update(text.split())\n",
    "    return len(words)\n",
    "\n",
    "total_unique_words = unique_words(df[\"dialog\"])\n",
    "\n",
    "# Verteilung der Dialoge auf die Filme\n",
    "movie_distribution = df[\"movie\"].value_counts()\n",
    "\n",
    "# Top 5 Charaktere nach Anzahl der Dialogzeilen\n",
    "top_characters = df[\"char\"].value_counts().head(5)\n",
    "\n",
    "# Ergebnisse ausgeben\n",
    "print(f\"Anzahl der Zeilen: {line_count}\")\n",
    "print(f\"Anzahl einzigartiger Wörter: {total_unique_words}\")\n",
    "print(\"Verteilung der Dialoge auf die Filme:\")\n",
    "print(movie_distribution)\n",
    "print(\"Top 5 Charaktere mit den meisten Dialogen:\")\n",
    "print(top_characters)\n",
    "\n",
    "print(f\"Datenbereinigung und Analyse abgeschlossen. Datei gespeichert als: {cleaned_file_path}\")\n"
   ]
  }
 ],
 "metadata": {
  "kernelspec": {
   "display_name": "base",
   "language": "python",
   "name": "python3"
  },
  "language_info": {
   "codemirror_mode": {
    "name": "ipython",
    "version": 3
   },
   "file_extension": ".py",
   "mimetype": "text/x-python",
   "name": "python",
   "nbconvert_exporter": "python",
   "pygments_lexer": "ipython3",
   "version": "3.11.7"
  }
 },
 "nbformat": 4,
 "nbformat_minor": 2
}
