{
 "cells": [
  {
   "cell_type": "code",
   "execution_count": 4,
   "metadata": {},
   "outputs": [],
   "source": [
    "import requests\n",
    "from bs4 import BeautifulSoup\n",
    "import pandas as pd"
   ]
  },
  {
   "cell_type": "code",
   "execution_count": 5,
   "metadata": {},
   "outputs": [
    {
     "name": "stdout",
     "output_type": "stream",
     "text": [
      "   #                     Name           Type  Total  HP  Attack  Defense  \\\n",
      "0  1                Bulbasaur  Grass  Poison    318  45      49       49   \n",
      "1  2                  Ivysaur  Grass  Poison    405  60      62       63   \n",
      "2  3                 Venusaur  Grass  Poison    525  80      82       83   \n",
      "3  3  Venusaur  Mega Venusaur  Grass  Poison    625  80     100      123   \n",
      "4  4               Charmander           Fire    309  39      52       43   \n",
      "\n",
      "   Sp. Atk  Sp. Def  Speed  \n",
      "0       65       65     45  \n",
      "1       80       80     60  \n",
      "2      100      100     80  \n",
      "3      122      120     80  \n",
      "4       60       50     65  \n",
      "Index(['#', 'Name', 'Type', 'Total', 'HP', 'Attack', 'Defense', 'Sp. Atk',\n",
      "       'Sp. Def', 'Speed'],\n",
      "      dtype='object')\n"
     ]
    },
    {
     "name": "stderr",
     "output_type": "stream",
     "text": [
      "C:\\Users\\kenan\\AppData\\Local\\Temp\\ipykernel_26540\\666100542.py:9: FutureWarning: Passing literal html to 'read_html' is deprecated and will be removed in a future version. To read from a literal string, wrap it in a 'StringIO' object.\n",
      "  df = pd.read_html(str(table))[0]\n"
     ]
    }
   ],
   "source": [
    "\n",
    "\n",
    "url = \"https://pokemondb.net/pokedex/all\"\n",
    "response = requests.get(url)\n",
    "soup = BeautifulSoup(response.text, \"html.parser\")\n",
    "\n",
    "# 1) Tabelle mit id=\"pokedex\" heraussuchen\n",
    "table = soup.find(\"table\", {\"id\": \"pokedex\"})\n",
    "\n",
    "# 2) Pandas DataFrame daraus erzeugen\n",
    "df = pd.read_html(str(table))[0]\n",
    "\n",
    "# 3) Ersten Zeilen und Spaltennamen anzeigen\n",
    "print(df.head())\n",
    "print(df.columns)\n",
    "\n"
   ]
  },
  {
   "cell_type": "code",
   "execution_count": 6,
   "metadata": {},
   "outputs": [
    {
     "name": "stdout",
     "output_type": "stream",
     "text": [
      "Stärkstes Pokémon (basierend auf Total):\n",
      "#                           890\n",
      "Name       Eternatus  Eternamax\n",
      "Type             Poison  Dragon\n",
      "Total                      1125\n",
      "HP                          255\n",
      "Attack                      115\n",
      "Defense                     250\n",
      "Sp. Atk                     125\n",
      "Sp. Def                     250\n",
      "Speed                       130\n",
      "Name: 1058, dtype: object\n"
     ]
    }
   ],
   "source": [
    "# Wir suchen den Zeilen-Index, bei dem \"Total\" maximal ist\n",
    "idx_strongest = df[\"Total\"].astype(int).idxmax()\n",
    "\n",
    "# Dann können wir z.B. die gesamte Zeile anzeigen\n",
    "strongest_pokemon = df.loc[idx_strongest]\n",
    "print(\"Stärkstes Pokémon (basierend auf Total):\")\n",
    "print(strongest_pokemon)\n"
   ]
  },
  {
   "cell_type": "code",
   "execution_count": 7,
   "metadata": {},
   "outputs": [
    {
     "name": "stdout",
     "output_type": "stream",
     "text": [
      "\n",
      "Pokémon mit höchstem Attack-Wert:\n",
      "#                            150\n",
      "Name       Mewtwo  Mega Mewtwo X\n",
      "Type           Psychic  Fighting\n",
      "Total                        780\n",
      "HP                           106\n",
      "Attack                       190\n",
      "Defense                      100\n",
      "Sp. Atk                      154\n",
      "Sp. Def                      100\n",
      "Speed                        130\n",
      "Name: 201, dtype: object\n"
     ]
    }
   ],
   "source": [
    "idx_best_attack = df[\"Attack\"].astype(int).idxmax()\n",
    "best_attack_pokemon = df.loc[idx_best_attack]\n",
    "print(\"\\nPokémon mit höchstem Attack-Wert:\")\n",
    "print(best_attack_pokemon)\n"
   ]
  },
  {
   "cell_type": "code",
   "execution_count": 8,
   "metadata": {},
   "outputs": [
    {
     "name": "stdout",
     "output_type": "stream",
     "text": [
      "\n",
      "Durchschnittswerte (HP, Attack, Defense, Sp. Atk, Sp. Def, Speed, Total):\n",
      "HP          71.244444\n",
      "Attack      81.152263\n",
      "Defense     75.007407\n",
      "Sp. Atk     73.224691\n",
      "Sp. Def     72.441152\n",
      "Speed       70.034568\n",
      "Total      443.104527\n",
      "dtype: float64\n"
     ]
    }
   ],
   "source": [
    "import numpy as np\n",
    "\n",
    "# Liste der Zahlen-Spalten\n",
    "stat_columns = [\"HP\", \"Attack\", \"Defense\", \"Sp. Atk\", \"Sp. Def\", \"Speed\", \"Total\"]\n",
    "\n",
    "# Stellen wir sicher, dass sie alle in Integer/Floats konvertierbar sind\n",
    "for col in stat_columns:\n",
    "    df[col] = df[col].astype(int)\n",
    "\n",
    "# Durchschnitt aller gewünschten Spalten berechnen\n",
    "averages = df[stat_columns].mean(numeric_only=True)\n",
    "\n",
    "print(\"\\nDurchschnittswerte (HP, Attack, Defense, Sp. Atk, Sp. Def, Speed, Total):\")\n",
    "print(averages)\n"
   ]
  },
  {
   "cell_type": "code",
   "execution_count": 11,
   "metadata": {},
   "outputs": [
    {
     "name": "stdout",
     "output_type": "stream",
     "text": [
      "Häufigkeiten aller Typen:\n",
      "Type\n",
      "Water       176\n",
      "Normal      153\n",
      "Grass       146\n",
      "Psychic     134\n",
      "Flying      132\n",
      "Bug         100\n",
      "Fire         97\n",
      "Poison       96\n",
      "Dragon       93\n",
      "Fighting     92\n",
      "Ground       90\n",
      "Dark         89\n",
      "Rock         88\n",
      "Electric     87\n",
      "Ghost        87\n",
      "Steel        85\n",
      "Fairy        74\n",
      "Ice          65\n",
      "Name: count, dtype: int64\n",
      "\n",
      "Der häufigste Typ ist: Water\n"
     ]
    }
   ],
   "source": [
    "# BONUS: Die Häufigkeit aller Pokemon Typen zählen\n",
    "\n",
    "\n",
    "\n",
    "\n",
    "# 1) Jeden Zellen-Eintrag aufsplitten in einzelne Typen\n",
    "types_series = df[\"Type\"].str.split()  # [\"Grass\", \"Poison\"] etc. pro Pokémon\n",
    "\n",
    "# 2) \"Explode\" erzeugt aus Listen einzelne Zeilen\n",
    "types_exploded = types_series.explode()  \n",
    "# Jetzt hat jedes Pokémon mit 2 Typen zwei Zeilen: \n",
    "#   z. B. \"Grass\" in einer Zeile, \"Poison\" in einer anderen\n",
    "\n",
    "# 3) Häufigkeitsauszählung\n",
    "type_counts = types_exploded.value_counts()\n",
    "print(\"Häufigkeiten aller Typen:\")\n",
    "print(type_counts)\n",
    "\n",
    "# 4) Häufigster Typ\n",
    "most_common_type = type_counts.idxmax()\n",
    "print(\"\\nDer häufigste Typ ist:\", most_common_type)\n"
   ]
  }
 ],
 "metadata": {
  "kernelspec": {
   "display_name": "base",
   "language": "python",
   "name": "python3"
  },
  "language_info": {
   "codemirror_mode": {
    "name": "ipython",
    "version": 3
   },
   "file_extension": ".py",
   "mimetype": "text/x-python",
   "name": "python",
   "nbconvert_exporter": "python",
   "pygments_lexer": "ipython3",
   "version": "3.11.7"
  }
 },
 "nbformat": 4,
 "nbformat_minor": 2
}
